{
 "cells": [
  {
   "cell_type": "markdown",
   "metadata": {},
   "source": [
    "# Creating a Gene Expression Heatmap\n",
    "\n",
    "## Introduction\n",
    "This is a companion notebook to the `ClusteringMethods` notebook. The purpose is to provide a \"real-world\" example of how clustering can be used to identify Gene Expression patterns. The same [Mice Protein Expression Data Set](https://archive.ics.uci.edu/ml/datasets/Mice+Protein+Expression#) from the [UCI Machine Learning Repository](http://archive.ics.uci.edu/ml/index.html) will be used as well. For additional information on the dataset, please reference the UCI site as well as the original notebook.\n",
    "\n",
    "## Data Cleaning / Preprocessing\n",
    "The same process will be used to construct the final, \"clean\" dataset, so please refer to the `ClusteringMethods` notebook for full details. A small difference is the use of the extra library `RColorBrewer`, in order to produce a more colorful figure."
   ]
  },
  {
   "cell_type": "code",
   "execution_count": 1,
   "metadata": {
    "collapsed": false
   },
   "outputs": [
    {
     "name": "stderr",
     "output_type": "stream",
     "text": [
      "\n",
      "Attaching package: 'dplyr'\n",
      "\n",
      "The following objects are masked from 'package:stats':\n",
      "\n",
      "    filter, lag\n",
      "\n",
      "The following objects are masked from 'package:base':\n",
      "\n",
      "    intersect, setdiff, setequal, union\n",
      "\n",
      "Warning message:\n",
      ": package 'gplots' was built under R version 3.2.4\n",
      "Attaching package: 'gplots'\n",
      "\n",
      "The following object is masked from 'package:stats':\n",
      "\n",
      "    lowess\n",
      "\n"
     ]
    },
    {
     "data": {
      "text/html": [
       "<table>\n",
       "<thead><tr><th></th><th scope=col>DYRK1A_N</th><th scope=col>ITSN1_N</th><th scope=col>BDNF_N</th><th scope=col>NR1_N</th><th scope=col>NR2A_N</th><th scope=col>pAKT_N</th><th scope=col>pBRAF_N</th><th scope=col>pCAMKII_N</th><th scope=col>pCREB_N</th><th scope=col>pELK_N</th><th scope=col>ellip.h</th><th scope=col>SHH_N</th><th scope=col>BAD_N</th><th scope=col>BCL2_N</th><th scope=col>pS6_N</th><th scope=col>pCFOS_N</th><th scope=col>SYP_N</th><th scope=col>H3AcK18_N</th><th scope=col>EGR1_N</th><th scope=col>H3MeK4_N</th><th scope=col>CaNA_N</th></tr></thead>\n",
       "<tbody>\n",
       "\t<tr><th scope=row>1</th><td>0.4458384</td><td>0.719069</td><td>0.4190171</td><td>2.859232</td><td>5.321076</td><td>0.229538</td><td>0.1712234</td><td>3.518429</td><td>0.2241737</td><td>1.502336</td><td><e2><8b><af></td><td>0.2052275</td><td>0.1366628</td><td>0.1069778</td><td>0.1252275</td><td>0.1149125</td><td>0.5784831</td><td>0.195846</td><td>0.1494049</td><td>0.1824971</td><td>1.736803</td></tr>\n",
       "\t<tr><th scope=row>2</th><td>0.4274166</td><td>0.7232267</td><td>0.4328929</td><td>2.939673</td><td>5.38491</td><td>0.2344402</td><td>0.169854</td><td>3.541551</td><td>0.2389604</td><td>1.575278</td><td><e2><8b><af></td><td>0.2247601</td><td>0.135684</td><td>0.1210247</td><td>0.132908</td><td>0.1245799</td><td>0.5950421</td><td>0.2085423</td><td>0.1612039</td><td>0.1939317</td><td>1.84391</td></tr>\n",
       "\t<tr><th scope=row>3</th><td>0.4567857</td><td>0.7507313</td><td>0.4632568</td><td>3.090683</td><td>5.576101</td><td>0.2443046</td><td>0.1782643</td><td>3.654995</td><td>0.235972</td><td>1.722099</td><td><e2><8b><af></td><td>0.2295513</td><td>0.1298929</td><td>0.1298468</td><td>0.1287389</td><td>0.1326625</td><td>0.5667467</td><td>0.2008863</td><td>0.1651588</td><td>0.1794221</td><td>1.77031</td></tr>\n",
       "\t<tr><th scope=row>4</th><td>0.3662387</td><td>0.5892331</td><td>0.3644717</td><td>2.534339</td><td>4.605254</td><td>0.2343032</td><td>0.1873012</td><td>3.230416</td><td>0.194487</td><td>1.342561</td><td><e2><8b><af></td><td>0.2057434</td><td>0.1421907</td><td>0.1097177</td><td>0.1277717</td><td>0.1154732</td><td>0.556222</td><td>0.2028353</td><td>0.1605477</td><td>0.1905974</td><td>1.763359</td></tr>\n",
       "\t<tr><th scope=row>5</th><td>0.3851905</td><td>0.6067402</td><td>0.3761718</td><td>2.584431</td><td>4.786994</td><td>0.2408924</td><td>0.1698113</td><td>3.230806</td><td>0.1905779</td><td>1.457933</td><td><e2><8b><af></td><td>0.22147</td><td>0.1412626</td><td>0.1201586</td><td>0.1329674</td><td>0.1230253</td><td>0.5512046</td><td>0.2114059</td><td>0.1664532</td><td>0.1915828</td><td>1.807502</td></tr>\n",
       "\t<tr><th scope=row>6</th><td>0.3773878</td><td>0.6306113</td><td>0.3909981</td><td>2.666428</td><td>5.101839</td><td>0.2443887</td><td>0.1766953</td><td>3.27149</td><td>0.1948424</td><td>1.531519</td><td><e2><8b><af></td><td>0.2264863</td><td>0.1370762</td><td>0.1228518</td><td>0.1285416</td><td>0.1240711</td><td>0.525836</td><td>0.2072689</td><td>0.167615</td><td>0.1916512</td><td>1.707095</td></tr>\n",
       "</tbody>\n",
       "</table>\n"
      ],
      "text/latex": [
       "\\begin{tabular}{r|lllllllllllllllllllllllllllllllllllllllllllllllllllllllllllllllllllllllllllll}\n",
       "  & DYRK1A_N & ITSN1_N & BDNF_N & NR1_N & NR2A_N & pAKT_N & pBRAF_N & pCAMKII_N & pCREB_N & pELK_N & ellip.h & SHH_N & BAD_N & BCL2_N & pS6_N & pCFOS_N & SYP_N & H3AcK18_N & EGR1_N & H3MeK4_N & CaNA_N\\\\\n",
       "\\hline\n",
       "\t1 & 0.4458384 & 0.719069 & 0.4190171 & 2.859232 & 5.321076 & 0.229538 & 0.1712234 & 3.518429 & 0.2241737 & 1.502336 & <e2><8b><af> & 0.2052275 & 0.1366628 & 0.1069778 & 0.1252275 & 0.1149125 & 0.5784831 & 0.195846 & 0.1494049 & 0.1824971 & 1.736803\\\\\n",
       "\t2 & 0.4274166 & 0.7232267 & 0.4328929 & 2.939673 & 5.38491 & 0.2344402 & 0.169854 & 3.541551 & 0.2389604 & 1.575278 & <e2><8b><af> & 0.2247601 & 0.135684 & 0.1210247 & 0.132908 & 0.1245799 & 0.5950421 & 0.2085423 & 0.1612039 & 0.1939317 & 1.84391\\\\\n",
       "\t3 & 0.4567857 & 0.7507313 & 0.4632568 & 3.090683 & 5.576101 & 0.2443046 & 0.1782643 & 3.654995 & 0.235972 & 1.722099 & <e2><8b><af> & 0.2295513 & 0.1298929 & 0.1298468 & 0.1287389 & 0.1326625 & 0.5667467 & 0.2008863 & 0.1651588 & 0.1794221 & 1.77031\\\\\n",
       "\t4 & 0.3662387 & 0.5892331 & 0.3644717 & 2.534339 & 4.605254 & 0.2343032 & 0.1873012 & 3.230416 & 0.194487 & 1.342561 & <e2><8b><af> & 0.2057434 & 0.1421907 & 0.1097177 & 0.1277717 & 0.1154732 & 0.556222 & 0.2028353 & 0.1605477 & 0.1905974 & 1.763359\\\\\n",
       "\t5 & 0.3851905 & 0.6067402 & 0.3761718 & 2.584431 & 4.786994 & 0.2408924 & 0.1698113 & 3.230806 & 0.1905779 & 1.457933 & <e2><8b><af> & 0.22147 & 0.1412626 & 0.1201586 & 0.1329674 & 0.1230253 & 0.5512046 & 0.2114059 & 0.1664532 & 0.1915828 & 1.807502\\\\\n",
       "\t6 & 0.3773878 & 0.6306113 & 0.3909981 & 2.666428 & 5.101839 & 0.2443887 & 0.1766953 & 3.27149 & 0.1948424 & 1.531519 & <e2><8b><af> & 0.2264863 & 0.1370762 & 0.1228518 & 0.1285416 & 0.1240711 & 0.525836 & 0.2072689 & 0.167615 & 0.1916512 & 1.707095\\\\\n",
       "\\end{tabular}\n"
      ],
      "text/plain": [
       "Source: local data frame [6 x 77]\n",
       "\n",
       "   DYRK1A_N   ITSN1_N    BDNF_N    NR1_N   NR2A_N    pAKT_N   pBRAF_N pCAMKII_N\n",
       "      (dbl)     (dbl)     (dbl)    (dbl)    (dbl)     (dbl)     (dbl)     (dbl)\n",
       "1 0.4458384 0.7190690 0.4190171 2.859232 5.321076 0.2295380 0.1712234  3.518429\n",
       "2 0.4274166 0.7232267 0.4328929 2.939673 5.384910 0.2344402 0.1698540  3.541551\n",
       "3 0.4567857 0.7507313 0.4632568 3.090683 5.576101 0.2443046 0.1782643  3.654995\n",
       "4 0.3662387 0.5892331 0.3644717 2.534339 4.605254 0.2343032 0.1873012  3.230416\n",
       "5 0.3851905 0.6067402 0.3761718 2.584431 4.786994 0.2408924 0.1698113  3.230806\n",
       "6 0.3773878 0.6306113 0.3909981 2.666428 5.101839 0.2443887 0.1766953  3.271490\n",
       "Variables not shown: pCREB_N (dbl), pELK_N (dbl), pERK_N (dbl), pJNK_N (dbl),\n",
       "  PKCA_N (dbl), pMEK_N (dbl), pNR1_N (dbl), pNR2A_N (dbl), pNR2B_N (dbl),\n",
       "  pPKCAB_N (dbl), pRSK_N (dbl), AKT_N (dbl), BRAF_N (dbl), CAMKII_N (dbl),\n",
       "  CREB_N (dbl), ELK_N (dbl), ERK_N (dbl), GSK3B_N (dbl), JNK_N (dbl), MEK_N\n",
       "  (dbl), TRKA_N (dbl), RSK_N (dbl), APP_N (dbl), Bcatenin_N (dbl), SOD1_N\n",
       "  (dbl), MTOR_N (dbl), P38_N (dbl), pMTOR_N (dbl), DSCR1_N (dbl), AMPKA_N\n",
       "  (dbl), NR2B_N (dbl), pNUMB_N (dbl), RAPTOR_N (dbl), TIAM1_N (dbl), pP70S6_N\n",
       "  (dbl), NUMB_N (dbl), P70S6_N (dbl), pGSK3B_N (dbl), pPKCG_N (dbl), CDK5_N\n",
       "  (dbl), S6_N (dbl), ADARB1_N (dbl), AcetylH3K9_N (dbl), RRP1_N (dbl), BAX_N\n",
       "  (dbl), ARC_N (dbl), ERBB4_N (dbl), nNOS_N (dbl), Tau_N (dbl), GFAP_N (dbl),\n",
       "  GluR3_N (dbl), GluR4_N (dbl), IL1B_N (dbl), P3525_N (dbl), pCASP9_N (dbl),\n",
       "  PSD95_N (dbl), SNCA_N (dbl), Ubiquitin_N (dbl), pGSK3B_Tyr216_N (dbl), SHH_N\n",
       "  (dbl), BAD_N (dbl), BCL2_N (dbl), pS6_N (dbl), pCFOS_N (dbl), SYP_N (dbl),\n",
       "  H3AcK18_N (dbl), EGR1_N (dbl), H3MeK4_N (dbl), CaNA_N (dbl)"
      ]
     },
     "execution_count": 1,
     "metadata": {},
     "output_type": "execute_result"
    },
    {
     "data": {
      "text/plain": [
       "    DYRK1A_N         ITSN1_N           BDNF_N           NR1_N      \n",
       " Min.   :0.1453   Min.   :0.2454   Min.   :0.1152   Min.   :1.331  \n",
       " 1st Qu.:0.2908   1st Qu.:0.4805   1st Qu.:0.2790   1st Qu.:2.044  \n",
       " Median :0.3721   Median :0.5903   Median :0.3085   Median :2.285  \n",
       " Mean   :0.4152   Mean   :0.6231   Mean   :0.3150   Mean   :2.295  \n",
       " 3rd Qu.:0.4957   3rd Qu.:0.7306   3rd Qu.:0.3470   3rd Qu.:2.544  \n",
       " Max.   :0.9922   Max.   :1.3364   Max.   :0.4972   Max.   :3.758  \n",
       "     NR2A_N          pAKT_N          pBRAF_N         pCAMKII_N    \n",
       " Min.   :1.738   Min.   :0.1210   Min.   :0.1076   Min.   :1.344  \n",
       " 1st Qu.:3.118   1st Qu.:0.1974   1st Qu.:0.1567   1st Qu.:2.484  \n",
       " Median :3.708   Median :0.2206   Median :0.1761   Median :3.370  \n",
       " Mean   :3.784   Mean   :0.2245   Mean   :0.1754   Mean   :3.621  \n",
       " 3rd Qu.:4.343   3rd Qu.:0.2478   3rd Qu.:0.1925   3rd Qu.:4.596  \n",
       " Max.   :8.483   Max.   :0.3538   Max.   :0.3171   Max.   :7.105  \n",
       "    pCREB_N           pELK_N          pERK_N           pJNK_N      \n",
       " Min.   :0.1128   Min.   :0.429   Min.   :0.2119   Min.   :0.1742  \n",
       " 1st Qu.:0.1827   1st Qu.:1.185   1st Qu.:0.3426   1st Qu.:0.2703  \n",
       " Median :0.2067   Median :1.318   Median :0.4478   Median :0.3115  \n",
       " Mean   :0.2083   Mean   :1.369   Mean   :0.5273   Mean   :0.3072  \n",
       " 3rd Qu.:0.2341   3rd Qu.:1.521   3rd Qu.:0.6535   3rd Qu.:0.3452  \n",
       " Max.   :0.3062   Max.   :6.113   Max.   :1.3971   Max.   :0.4243  \n",
       "     PKCA_N           pMEK_N           pNR1_N          pNR2A_N      \n",
       " Min.   :0.1947   Min.   :0.1465   Min.   :0.5002   Min.   :0.2813  \n",
       " 1st Qu.:0.2767   1st Qu.:0.2316   1st Qu.:0.7351   1st Qu.:0.5862  \n",
       " Median :0.3109   Median :0.2700   Median :0.8161   Median :0.7139  \n",
       " Mean   :0.3180   Mean   :0.2653   Mean   :0.8240   Mean   :0.7256  \n",
       " 3rd Qu.:0.3571   3rd Qu.:0.2955   3rd Qu.:0.8973   3rd Qu.:0.8454  \n",
       " Max.   :0.4740   Max.   :0.4169   Max.   :1.4082   Max.   :1.4128  \n",
       "    pNR2B_N         pPKCAB_N          pRSK_N           AKT_N       \n",
       " Min.   :0.812   Min.   :0.6918   Min.   :0.2541   Min.   :0.3345  \n",
       " 1st Qu.:1.353   1st Qu.:1.1831   1st Qu.:0.4089   1st Qu.:0.5874  \n",
       " Median :1.550   Median :1.4850   Median :0.4464   Median :0.6796  \n",
       " Mean   :1.558   Mean   :1.6147   Mean   :0.4521   Mean   :0.6800  \n",
       " 3rd Qu.:1.743   3rd Qu.:2.0802   3rd Qu.:0.5028   3rd Qu.:0.7688  \n",
       " Max.   :2.724   Max.   :2.9324   Max.   :0.6510   Max.   :1.1822  \n",
       "     BRAF_N          CAMKII_N          CREB_N           ELK_N       \n",
       " Min.   :0.1439   Min.   :0.2130   Min.   :0.1136   Min.   :0.4977  \n",
       " 1st Qu.:0.2608   1st Qu.:0.3168   1st Qu.:0.1531   1st Qu.:0.9487  \n",
       " Median :0.3178   Median :0.3482   Median :0.1725   Median :1.1142  \n",
       " Mean   :0.3545   Mean   :0.3484   Mean   :0.1732   Mean   :1.1983  \n",
       " 3rd Qu.:0.3993   3rd Qu.:0.3753   3rd Qu.:0.1907   3rd Qu.:1.3613  \n",
       " Max.   :0.8141   Max.   :0.5140   Max.   :0.2560   Max.   :2.8029  \n",
       "     ERK_N          GSK3B_N           JNK_N            MEK_N       \n",
       " Min.   :1.170   Min.   :0.6136   Min.   :0.1495   Min.   :0.1472  \n",
       " 1st Qu.:1.982   1st Qu.:1.0273   1st Qu.:0.2093   1st Qu.:0.2369  \n",
       " Median :2.407   Median :1.1686   Median :0.2373   Median :0.2700  \n",
       " Mean   :2.482   Mean   :1.1766   Mean   :0.2351   Mean   :0.2684  \n",
       " 3rd Qu.:2.884   3rd Qu.:1.3228   3rd Qu.:0.2597   3rd Qu.:0.2988  \n",
       " Max.   :5.198   Max.   :1.8717   Max.   :0.3220   Max.   :0.3907  \n",
       "     TRKA_N           RSK_N            APP_N          Bcatenin_N   \n",
       " Min.   :0.3526   Min.   :0.1074   Min.   :0.2356   Min.   :1.135  \n",
       " 1st Qu.:0.5915   1st Qu.:0.1399   1st Qu.:0.3646   1st Qu.:1.805  \n",
       " Median :0.6991   Median :0.1595   Median :0.4061   Median :2.123  \n",
       " Mean   :0.6870   Mean   :0.1605   Mean   :0.4074   Mean   :2.150  \n",
       " 3rd Qu.:0.7771   3rd Qu.:0.1782   3rd Qu.:0.4446   3rd Qu.:2.451  \n",
       " Max.   :1.0016   Max.   :0.2415   Max.   :0.5735   Max.   :3.681  \n",
       "     SOD1_N           MTOR_N           P38_N           pMTOR_N      \n",
       " Min.   :0.2171   Min.   :0.2011   Min.   :0.2279   Min.   :0.1666  \n",
       " 1st Qu.:0.3049   1st Qu.:0.4029   1st Qu.:0.3481   1st Qu.:0.6689  \n",
       " Median :0.3731   Median :0.4367   Median :0.3951   Median :0.7357  \n",
       " Mean   :0.5281   Mean   :0.4423   Mean   :0.4064   Mean   :0.7426  \n",
       " 3rd Qu.:0.7059   3rd Qu.:0.4774   3rd Qu.:0.4580   3rd Qu.:0.8412  \n",
       " Max.   :1.6105   Max.   :0.6767   Max.   :0.7219   Max.   :1.1249  \n",
       "    DSCR1_N          AMPKA_N           NR2B_N          pNUMB_N      \n",
       " Min.   :0.1553   Min.   :0.2390   Min.   :0.1848   Min.   :0.2116  \n",
       " 1st Qu.:0.5101   1st Qu.:0.3233   1st Qu.:0.4987   1st Qu.:0.3121  \n",
       " Median :0.5637   Median :0.3518   Median :0.5471   Median :0.3433  \n",
       " Mean   :0.5596   Mean   :0.3615   Mean   :0.5497   Mean   :0.3477  \n",
       " 3rd Qu.:0.6063   3rd Qu.:0.3905   3rd Qu.:0.5991   3rd Qu.:0.3775  \n",
       " Max.   :0.8948   Max.   :0.7008   Max.   :0.9720   Max.   :0.6311  \n",
       "    RAPTOR_N         TIAM1_N          pP70S6_N          NUMB_N      \n",
       " Min.   :0.2070   Min.   :0.2593   Min.   :0.1398   Min.   :0.1180  \n",
       " 1st Qu.:0.2703   1st Qu.:0.3716   1st Qu.:0.2943   1st Qu.:0.1626  \n",
       " Median :0.2960   Median :0.4030   Median :0.3707   Median :0.1821  \n",
       " Mean   :0.3030   Mean   :0.4128   Mean   :0.3902   Mean   :0.1855  \n",
       " 3rd Qu.:0.3265   3rd Qu.:0.4446   3rd Qu.:0.4663   3rd Qu.:0.2043  \n",
       " Max.   :0.4678   Max.   :0.6972   Max.   :1.1292   Max.   :0.3166  \n",
       "    P70S6_N          pGSK3B_N          pPKCG_N           CDK5_N      \n",
       " Min.   :0.3441   Min.   :0.09998   Min.   :0.5988   Min.   :0.1976  \n",
       " 1st Qu.:0.8488   1st Qu.:0.14658   1st Qu.:1.3902   1st Qu.:0.2678  \n",
       " Median :0.9472   Median :0.16028   Median :1.8114   Median :0.2955  \n",
       " Mean   :0.9637   Mean   :0.16060   Mean   :1.8103   Mean   :0.2940  \n",
       " 3rd Qu.:1.0578   3rd Qu.:0.17361   3rd Qu.:2.2323   3rd Qu.:0.3182  \n",
       " Max.   :1.6800   Max.   :0.25321   Max.   :3.3820   Max.   :0.8174  \n",
       "      S6_N           ADARB1_N       AcetylH3K9_N         RRP1_N      \n",
       " Min.   :0.1869   Min.   :0.5291   Min.   :0.05253   Min.   :0.1190  \n",
       " 1st Qu.:0.3310   1st Qu.:0.9397   1st Qu.:0.10144   1st Qu.:0.1468  \n",
       " Median :0.4367   Median :1.1368   Median :0.14588   Median :0.1588  \n",
       " Mean   :0.4497   Mean   :1.2113   Mean   :0.20190   Mean   :0.1622  \n",
       " 3rd Qu.:0.5502   3rd Qu.:1.4022   3rd Qu.:0.27869   3rd Qu.:0.1708  \n",
       " Max.   :0.8226   Max.   :2.4675   Max.   :1.00368   Max.   :0.6124  \n",
       "     BAX_N             ARC_N            ERBB4_N           nNOS_N       \n",
       " Min.   :0.07233   Min.   :0.06725   Min.   :0.1002   Min.   :0.09973  \n",
       " 1st Qu.:0.16774   1st Qu.:0.10935   1st Qu.:0.1468   1st Qu.:0.16757  \n",
       " Median :0.18180   Median :0.11940   Median :0.1552   Median :0.18578  \n",
       " Mean   :0.17938   Mean   :0.12011   Mean   :0.1559   Mean   :0.18348  \n",
       " 3rd Qu.:0.19231   3rd Qu.:0.13036   3rd Qu.:0.1633   3rd Qu.:0.20218  \n",
       " Max.   :0.22379   Max.   :0.15380   Max.   :0.2087   Max.   :0.26074  \n",
       "     Tau_N             GFAP_N           GluR3_N          GluR4_N       \n",
       " Min.   :0.09623   Min.   :0.08783   Min.   :0.1282   Min.   :0.07258  \n",
       " 1st Qu.:0.16572   1st Qu.:0.11103   1st Qu.:0.1967   1st Qu.:0.11070  \n",
       " Median :0.18632   Median :0.11863   Median :0.2189   Median :0.12241  \n",
       " Mean   :0.20495   Mean   :0.11815   Mean   :0.2225   Mean   :0.12502  \n",
       " 3rd Qu.:0.23090   3rd Qu.:0.12492   3rd Qu.:0.2443   3rd Qu.:0.13767  \n",
       " Max.   :0.51371   Max.   :0.15098   Max.   :0.3310   Max.   :0.18891  \n",
       "     IL1B_N          P3525_N          pCASP9_N         PSD95_N     \n",
       " Min.   :0.3130   Min.   :0.2074   Min.   :0.8532   Min.   :1.322  \n",
       " 1st Qu.:0.4827   1st Qu.:0.2741   1st Qu.:1.4121   1st Qu.:2.074  \n",
       " Median :0.5235   Median :0.2918   Median :1.5609   Median :2.208  \n",
       " Mean   :0.5270   Mean   :0.2926   Mean   :1.5796   Mean   :2.217  \n",
       " 3rd Qu.:0.5691   3rd Qu.:0.3138   3rd Qu.:1.7275   3rd Qu.:2.380  \n",
       " Max.   :0.7831   Max.   :0.3655   Max.   :2.5862   Max.   :2.878  \n",
       "     SNCA_N        Ubiquitin_N     pGSK3B_Tyr216_N      SHH_N       \n",
       " Min.   :0.1093   Min.   :0.7507   Min.   :0.5774   Min.   :0.1559  \n",
       " 1st Qu.:0.1411   1st Qu.:1.1043   1st Qu.:0.8117   1st Qu.:0.2093  \n",
       " Median :0.1550   Median :1.2030   Median :0.8648   Median :0.2249  \n",
       " Mean   :0.1567   Mean   :1.2180   Mean   :0.8651   Mean   :0.2280  \n",
       " 3rd Qu.:0.1691   3rd Qu.:1.3289   3rd Qu.:0.9296   3rd Qu.:0.2433  \n",
       " Max.   :0.2430   Max.   :1.8972   Max.   :1.0434   Max.   :0.3583  \n",
       "     BAD_N            BCL2_N            pS6_N            pCFOS_N       \n",
       " Min.   :0.1071   Min.   :0.08066   Min.   :0.06725   Min.   :0.08542  \n",
       " 1st Qu.:0.1357   1st Qu.:0.11326   1st Qu.:0.10935   1st Qu.:0.11463  \n",
       " Median :0.1489   Median :0.12446   Median :0.11940   Median :0.12645  \n",
       " Mean   :0.1541   Mean   :0.12890   Mean   :0.12011   Mean   :0.12981  \n",
       " 3rd Qu.:0.1669   3rd Qu.:0.13819   3rd Qu.:0.13036   3rd Qu.:0.14226  \n",
       " Max.   :0.2662   Max.   :0.23802   Max.   :0.15380   Max.   :0.20588  \n",
       "     SYP_N          H3AcK18_N           EGR1_N          H3MeK4_N     \n",
       " Min.   :0.2601   Min.   :0.07969   Min.   :0.1209   Min.   :0.1018  \n",
       " 1st Qu.:0.3940   1st Qu.:0.12134   1st Qu.:0.1535   1st Qu.:0.1620  \n",
       " Median :0.4469   Median :0.14837   Median :0.1712   Median :0.1868  \n",
       " Mean   :0.4447   Mean   :0.16092   Mean   :0.1785   Mean   :0.1940  \n",
       " 3rd Qu.:0.4880   3rd Qu.:0.18208   3rd Qu.:0.1972   3rd Qu.:0.2177  \n",
       " Max.   :0.7596   Max.   :0.47976   Max.   :0.3607   Max.   :0.3720  \n",
       "     CaNA_N      \n",
       " Min.   :0.7885  \n",
       " 1st Qu.:1.1040  \n",
       " Median :1.3657  \n",
       " Mean   :1.3784  \n",
       " 3rd Qu.:1.6316  \n",
       " Max.   :2.1298  "
      ]
     },
     "execution_count": 1,
     "metadata": {},
     "output_type": "execute_result"
    }
   ],
   "source": [
    "library(dplyr);\n",
    "library(gplots);\n",
    "library(RColorBrewer);\n",
    "\n",
    "MouseDataRaw <- read.csv(file=\"data/Data_Cortex_Nuclear.csv\",head=TRUE,sep=\";\");\n",
    "\n",
    "# STEP 1: Restructure data for the clustering process\n",
    "# ====================================================\n",
    "# First, include an extra column that will correspond to the label of each instance\n",
    "# The label is constructed through concantenation of two existing fields:\n",
    "# MouseID and class  (e.g.:   )\n",
    "MouseDataRaw$rowNamesInfo <- paste(MouseDataRaw$MouseID, MouseDataRaw$class, sep=\"   \");\n",
    "\n",
    "# Second, split the dataset for the different classes (i.e. 8 datasets)\n",
    "# Each subset contains 78 attributes: the 77 protein expression levels, and the label\n",
    "MouseData_cCSs <- MouseDataRaw %>%\n",
    "  na.omit() %>%\n",
    "  filter(class == \"c-CS-s\") %>%\n",
    "  select(-MouseID, -Genotype, -Treatment, -Behavior);\n",
    "\n",
    "MouseData_cCSm <- MouseDataRaw %>%\n",
    "  na.omit() %>%\n",
    "  filter(class == \"c-CS-m\") %>%\n",
    "  select(-MouseID, -Genotype, -Treatment, -Behavior);\n",
    "\n",
    "MouseData_cSCs <- MouseDataRaw %>%\n",
    "  na.omit() %>%\n",
    "  filter(class == \"c-SC-s\") %>%\n",
    "  select(-MouseID, -Genotype, -Treatment, -Behavior);\n",
    "\n",
    "MouseData_cSCm <- MouseDataRaw %>%\n",
    "  na.omit() %>%\n",
    "  filter(class == \"c-SC-m\") %>%\n",
    "  select(-MouseID, -Genotype, -Treatment, -Behavior);\n",
    "\n",
    "MouseData_tCSs <- MouseDataRaw %>%\n",
    "  na.omit() %>%\n",
    "  filter(class == \"t-CS-s\") %>%\n",
    "  select(-MouseID, -Genotype, -Treatment, -Behavior);\n",
    "\n",
    "MouseData_tCSm <- MouseDataRaw %>%\n",
    "  na.omit() %>%\n",
    "  filter(class == \"t-CS-m\") %>%\n",
    "  select(-MouseID, -Genotype, -Treatment, -Behavior);\n",
    "\n",
    "MouseData_tSCs <- MouseDataRaw %>%\n",
    "  na.omit() %>%\n",
    "  filter(class == \"t-SC-s\") %>%\n",
    "  select(-MouseID, -Genotype, -Treatment, -Behavior);\n",
    "\n",
    "MouseData_tSCm <- MouseDataRaw %>%\n",
    "  na.omit() %>%\n",
    "  filter(class == \"t-SC-m\") %>%\n",
    "  select(-MouseID, -Genotype, -Treatment, -Behavior);\n",
    "\n",
    "\n",
    "# Finally, join all subsets in the final set. The label attribute is assigned as the\n",
    "# row name, and dropped as an independent attribute\n",
    "# Final construct: each row has 77 attributes (for the 77 proteins)\n",
    "MouseDataClean <- bind_rows(MouseData_cCSs, MouseData_cCSm, MouseData_cSCs, MouseData_cSCm, MouseData_tCSs, MouseData_tCSm, MouseData_tSCs, MouseData_tSCm);\n",
    "rownames(MouseDataClean) <- MouseDataClean$rowNamesInfo; \n",
    "MouseData <- select(MouseDataClean, -rowNamesInfo, -class);\n",
    "\n",
    "head(MouseData);\n",
    "summary(MouseData);"
   ]
  },
  {
   "cell_type": "markdown",
   "metadata": {},
   "source": [
    "## Initializing the Heatmap\n",
    "The content of the heatmap will directly correspond to the gene expression data. However, before starting the visualization process, the data should be clustered in order to produce the necessary hieararchical structure.\n",
    "\n",
    "The parameters to be considered are the following:\n",
    "1. The distance metric to be applied to the vectors. Choices are:  \n",
    "  - \"euclidean\" *(default)*\n",
    "  - \"maximum\"\n",
    "  - \"manhattan\"\n",
    "  - \"canberra\"\n",
    "  - \"binary\"\n",
    "  - \"minkowski\"\n",
    "2. The clustering method for joining similar vectors together. Choice are:  \n",
    "  - \"complete\" *(default)*\n",
    "  - \"single\"\n",
    "  - \"ward.D\" and \"ward.D2\"\n",
    "  - \"average\", which is UPGMA \n",
    "  - \"mcquitty\", which is WPGMA\n",
    "  - \"median\", which is WPGMC\n",
    "  - \"centroid\", which is UPGMC\n",
    "\n",
    "It goes without saying that the optimal selection of these parameters (based on your experience in the first part of the exercise - notebook `ClusteringMethods`) will produce the most meaningful results.\n",
    "\n",
    "Moreover, clustering can be applied to both axis; data can be clustered both at the protein level (i.e. columns) as well as the sample level (i.e. rows). In the first case (columns), our instances are vectors corresponding to the expression level of one protein across all samples. In the second case (rows), our instances are vectors corresponding to the expression level of all proteins of one sample."
   ]
  },
  {
   "cell_type": "code",
   "execution_count": 2,
   "metadata": {
    "collapsed": false
   },
   "outputs": [],
   "source": [
    "# Clustering or rows (i.e. tissues/samples)\n",
    "row_distance = dist(as.matrix(MouseData)[c(1:nrow(MouseData)),], method = \"euclidean\");\n",
    "row_cluster = hclust(row_distance, method = \"complete\");\n",
    "\n",
    "# Clustering of columns (i.e. protein expressions)\n",
    "col_distance = dist(t(as.matrix(MouseData)[c(1:nrow(MouseData)),]), method = \"euclidean\");\n",
    "col_cluster = hclust(col_distance, method = \"complete\");"
   ]
  },
  {
   "cell_type": "markdown",
   "metadata": {},
   "source": [
    "Starting the visualization process, we need to first define the coloring range for the expression. In this case, we are going to use a green - yellow - orange - red scale."
   ]
  },
  {
   "cell_type": "code",
   "execution_count": 3,
   "metadata": {
    "collapsed": true
   },
   "outputs": [],
   "source": [
    "# Define the color range for the actual expression levels\n",
    "my_palette <- colorRampPalette(c(\"green\", \"yellow\", \"orange\", \"red\"))(n = 399);"
   ]
  },
  {
   "cell_type": "markdown",
   "metadata": {},
   "source": [
    "The next step is to identify the thresholds for changing the different coloring scheme, i.e. the expression levels that can be identified with low, medium and high expression levels. This particular aspects is somewhat objective, so it should be changed accordingly. The current levels are as follows:\n",
    "1.   **0 - 0.49**  : Green hue, low expression\n",
    "2. **0.5 - 0.79**  : Yellow hue, mid low expression\n",
    "3. **0.8 - 0.99**  : Orange hue, mid high expression\n",
    "4.   **1 - 10**    : Red hue, high expression"
   ]
  },
  {
   "cell_type": "code",
   "execution_count": 4,
   "metadata": {
    "collapsed": true
   },
   "outputs": [],
   "source": [
    "# Define the color breaks that would better represent the different values\n",
    "col_breaks = c(seq(0  ,  0.49,   length=100),    # for green\n",
    "               seq(0.5,  0.79,   length=100),    # for yellow\n",
    "               seq(0.8,  0.99,   length=100),    # for orange\n",
    "               seq(1  , 10,      length=100));   # for red"
   ]
  },
  {
   "cell_type": "markdown",
   "metadata": {},
   "source": [
    "Other than the coloring scheme for the expression level, it would be useful to include a coloring scheme for each of the 8 samples."
   ]
  },
  {
   "cell_type": "code",
   "execution_count": 5,
   "metadata": {
    "collapsed": true
   },
   "outputs": [],
   "source": [
    "# Define a color for each of the 8 different cases\n",
    "colorList = c(\"gray\", \"blue\", \"lightsalmon\", \"orchid\", \"skyblue\", \"black\", \"green\", \"chartreuse4\", \"burlywood\");\n",
    "rowCategories <- c(rep(colorList[1], nrow(MouseData_cCSs)),   # c-CS-s\n",
    "                   rep(colorList[2], nrow(MouseData_cCSm)),   # c-CS-m\n",
    "                   rep(colorList[3], nrow(MouseData_cSCs)),   # c-SC-s\n",
    "                   rep(colorList[4], nrow(MouseData_cSCm)),   # c-SC-m\n",
    "                   rep(colorList[5], nrow(MouseData_tCSs)),   # t-CS-s\n",
    "                   rep(colorList[6], nrow(MouseData_tCSm)),   # t-CS-m\n",
    "                   rep(colorList[7], nrow(MouseData_tSCs)),   # t-SC-s\n",
    "                   rep(colorList[8], nrow(MouseData_tSCm))    # t-SC-m\n",
    ");\n",
    "\n",
    "classNames <- c(\"c-CS-s\", \"c-CS-m\", \"c-SC-s\", \"c-SC-m\", \"t-CS-s\", \"t-CS-m\", \"t-SC-s\", \"t-SC-m\");"
   ]
  },
  {
   "cell_type": "markdown",
   "metadata": {},
   "source": [
    "The next step will be to create the parameters for the png file to be produced."
   ]
  },
  {
   "cell_type": "code",
   "execution_count": 6,
   "metadata": {
    "collapsed": true
   },
   "outputs": [],
   "source": [
    "# Creates the png image file\n",
    "png(\"MouseProteinExpressionHeatmap.png\",   # create PNG for the heat map        \n",
    "    width     = 8000,                      # set the width of the image in pixels\n",
    "    height    = 6000,                      # set the height of the image in pixels\n",
    "    res       = 300,                       # set the resolutions to 300 pixels per inch\n",
    "    pointsize = 5);                        # set the size of any letters/text    "
   ]
  },
  {
   "cell_type": "markdown",
   "metadata": {},
   "source": [
    "Finally, we create the heatmap, providing as parameters all the information gathered and defined so far."
   ]
  },
  {
   "cell_type": "code",
   "execution_count": null,
   "metadata": {
    "collapsed": false
   },
   "outputs": [
    {
     "data": {
      "text/html": [
       "<strong>png:</strong> 3"
      ],
      "text/latex": [
       "\\textbf{png:} 3"
      ],
      "text/markdown": [
       "**png:** 3"
      ],
      "text/plain": [
       "png \n",
       "  3 "
      ]
     },
     "execution_count": 7,
     "metadata": {},
     "output_type": "execute_result"
    }
   ],
   "source": [
    "# Constructs the heatmap with the selected parameters\n",
    "heatmap.2(as.matrix(MouseData)[c(1:nrow(MouseData)),],                        # data for heatmap\n",
    "          #cellnote = as.matrix(MouseDataClean)[c(1:nrow(MouseDataClean)),],  # uncomment to show cell values\n",
    "          main = \"Mouse Protein Expression\",                         # heat map title\n",
    "          notecol=\"black\",                                           # change font color of cell labels to black\n",
    "          density.info=\"histogram\",                                  # turns off density plot inside color legend (\"histogram\",\"density\",\"none\"),\n",
    "          trace=\"none\",                                              # turns off trace lines inside the heat map (row, column, both, none)\n",
    "          tracecol=\"cyan\",                                           # character string giving the color for \"trace\" line\n",
    "          margins =c(20,20),                                         # widens margins around plot\n",
    "          col=my_palette,                                            # use on color palette defined earlier \n",
    "          dendrogram=\"both\",                                         # character string indicating whether to draw 'none', 'row', 'column' or 'both' dendrograms\n",
    "          Rowv = as.dendrogram(row_cluster),                         # use the clustering created earlier clustering method\n",
    "          Colv = as.dendrogram(col_cluster),                         # use the clustering created earlier clustering method\n",
    "          RowSideColors = rowCategories,                             # grouping row-variables into different categories\n",
    "          breaks=col_breaks                                          # enable color transition at specified limits\n",
    ");\n",
    "\n",
    "# Include legend in figure\n",
    "legend(\"topright\",                                         # location of the legend on the heatmap plot\n",
    "       legend = classNames,                                # category labels\n",
    "       col = colorList[1:length(unique(rowCategories))],   # color key\n",
    "       lty= 1,                                             # line style\n",
    "       lwd = 10                                            # line width\n",
    ");\n",
    "\n",
    "# Close the file\n",
    "dev.off()"
   ]
  },
  {
   "cell_type": "markdown",
   "metadata": {},
   "source": [
    "The output of the previous command is the following figure:\n",
    "\n",
    "![image](MouseProteinExpressionHeatmap.png)"
   ]
  },
  {
   "cell_type": "markdown",
   "metadata": {},
   "source": [
    "It is obvious that neither the color scheme, nor the coloring scheme provide a lot of information. The samples (as indicated by the colored column before the heatmap) are distributed and not grouped together. The proteins are better grouped but still exhibit abnormal behavior, as seen by the highly expressed columns on the right and left-end of the heatmap. An optimal selection of the clustering methods could potentially lead to more meaningful results."
   ]
  }
 ],
 "metadata": {
  "kernelspec": {
   "display_name": "R",
   "language": "R",
   "name": "ir"
  },
  "language_info": {
   "codemirror_mode": "r",
   "file_extension": ".r",
   "mimetype": "text/x-r-source",
   "name": "R",
   "pygments_lexer": "r",
   "version": "3.2.3"
  }
 },
 "nbformat": 4,
 "nbformat_minor": 0
}
